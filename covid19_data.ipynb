{
 "cells": [
  {
   "cell_type": "markdown",
   "metadata": {},
   "source": [
    "# Covid-19 data"
   ]
  },
  {
   "cell_type": "markdown",
   "metadata": {},
   "source": [
    "The covid data is requested using the Covid-19 API: https://covid19api.com/"
   ]
  },
  {
   "cell_type": "code",
   "execution_count": 1,
   "metadata": {},
   "outputs": [],
   "source": [
    "# Import dependencies\n",
    "import requests\n",
    "import csv\n",
    "import json\n",
    "import pandas as pd\n",
    "from pprint import pprint\n",
    "import datetime\n",
    "from datetime import datetime\n",
    "from datetime import timedelta, date\n",
    "import matplotlib.pyplot as plt\n",
    "import scipy.stats as sts"
   ]
  },
  {
   "cell_type": "code",
   "execution_count": null,
   "metadata": {},
   "outputs": [],
   "source": [
    "# Make request to retrieve the country slug for Australia, for per country requests\n",
    "url = \"https://api.covid19api.com/countries\"\n",
    "response_json = requests.get(url).json()\n",
    "\n",
    "for response in range(len(response_json)):\n",
    "    if response_json[response]['Country'] == \"Australia\":\n",
    "        aus_response = response_json[response]\n",
    "    \n",
    "print(aus_response)    "
   ]
  },
  {
   "cell_type": "code",
   "execution_count": null,
   "metadata": {},
   "outputs": [],
   "source": [
    "# Covid-19 API request for Australia, case status includes active, confirmed, deaths, recovered\n",
    "# Build URL\n",
    "url = \"https://api.covid19api.com/country/australia?from=2020-03-01T00:00:00Z&to=2020-09-05T00:00:00Z\"\n",
    "\n",
    "# Make request\n",
    "response = requests.get(url)\n",
    "\n",
    "# Convert to json\n",
    "cases_response = response.json()\n",
    "\n",
    "# Use list comprehension to get case numbers\n",
    "state = [case_number[\"Province\"] for case_number in cases_response]\n",
    "date = [case_number[\"Date\"] for case_number in cases_response]\n",
    "confirmed = [case_number[\"Confirmed\"] for case_number in cases_response]\n",
    "active = [case_number[\"Active\"] for case_number in cases_response]\n",
    "deaths = [case_number[\"Deaths\"] for case_number in cases_response]\n",
    "\n",
    "# Create dataframe and include month column and set to the month specified in url \n",
    "covid_df = pd.DataFrame({\n",
    "         \"State\": state,\n",
    "         \"Date\": date, \n",
    "         \"Confirmed (cumulative)\": confirmed,\n",
    "         \"Active\": active,\n",
    "         \"Deaths\": deaths      \n",
    " }) \n",
    "\n",
    "# Write to csv\n",
    "covid_df.to_csv(\"covid_data.csv\", index=False, header=True)"
   ]
  },
  {
   "cell_type": "code",
   "execution_count": 2,
   "metadata": {},
   "outputs": [
    {
     "data": {
      "text/html": [
       "<div>\n",
       "<style scoped>\n",
       "    .dataframe tbody tr th:only-of-type {\n",
       "        vertical-align: middle;\n",
       "    }\n",
       "\n",
       "    .dataframe tbody tr th {\n",
       "        vertical-align: top;\n",
       "    }\n",
       "\n",
       "    .dataframe thead th {\n",
       "        text-align: right;\n",
       "    }\n",
       "</style>\n",
       "<table border=\"1\" class=\"dataframe\">\n",
       "  <thead>\n",
       "    <tr style=\"text-align: right;\">\n",
       "      <th></th>\n",
       "      <th>State</th>\n",
       "      <th>Date</th>\n",
       "      <th>Confirmed (cumulative)</th>\n",
       "      <th>Active</th>\n",
       "      <th>Deaths</th>\n",
       "    </tr>\n",
       "  </thead>\n",
       "  <tbody>\n",
       "    <tr>\n",
       "      <th>0</th>\n",
       "      <td>Western Australia</td>\n",
       "      <td>2020-03-01T00:00:00Z</td>\n",
       "      <td>2</td>\n",
       "      <td>1</td>\n",
       "      <td>1</td>\n",
       "    </tr>\n",
       "    <tr>\n",
       "      <th>1</th>\n",
       "      <td>Australian Capital Territory</td>\n",
       "      <td>2020-03-01T00:00:00Z</td>\n",
       "      <td>0</td>\n",
       "      <td>0</td>\n",
       "      <td>0</td>\n",
       "    </tr>\n",
       "    <tr>\n",
       "      <th>2</th>\n",
       "      <td>New South Wales</td>\n",
       "      <td>2020-03-01T00:00:00Z</td>\n",
       "      <td>6</td>\n",
       "      <td>2</td>\n",
       "      <td>0</td>\n",
       "    </tr>\n",
       "    <tr>\n",
       "      <th>3</th>\n",
       "      <td>Northern Territory</td>\n",
       "      <td>2020-03-01T00:00:00Z</td>\n",
       "      <td>0</td>\n",
       "      <td>0</td>\n",
       "      <td>0</td>\n",
       "    </tr>\n",
       "    <tr>\n",
       "      <th>4</th>\n",
       "      <td>Queensland</td>\n",
       "      <td>2020-03-01T00:00:00Z</td>\n",
       "      <td>9</td>\n",
       "      <td>8</td>\n",
       "      <td>0</td>\n",
       "    </tr>\n",
       "  </tbody>\n",
       "</table>\n",
       "</div>"
      ],
      "text/plain": [
       "                          State                  Date  Confirmed (cumulative)  \\\n",
       "0             Western Australia  2020-03-01T00:00:00Z                       2   \n",
       "1  Australian Capital Territory  2020-03-01T00:00:00Z                       0   \n",
       "2               New South Wales  2020-03-01T00:00:00Z                       6   \n",
       "3            Northern Territory  2020-03-01T00:00:00Z                       0   \n",
       "4                    Queensland  2020-03-01T00:00:00Z                       9   \n",
       "\n",
       "   Active  Deaths  \n",
       "0       1       1  \n",
       "1       0       0  \n",
       "2       2       0  \n",
       "3       0       0  \n",
       "4       8       0  "
      ]
     },
     "execution_count": 2,
     "metadata": {},
     "output_type": "execute_result"
    }
   ],
   "source": [
    "# Read in csv\n",
    "covid_df = pd.read_csv(\"covid_data.csv\") \n",
    "\n",
    "# Display dataframe\n",
    "covid_df.head()"
   ]
  },
  {
   "cell_type": "code",
   "execution_count": 4,
   "metadata": {},
   "outputs": [
    {
     "data": {
      "text/plain": [
       "array(['Western Australia', 'Australian Capital Territory',\n",
       "       'New South Wales', 'Northern Territory', 'Queensland',\n",
       "       'South Australia', 'Tasmania', 'Victoria'], dtype=object)"
      ]
     },
     "execution_count": 4,
     "metadata": {},
     "output_type": "execute_result"
    }
   ],
   "source": [
    "# Check that we have all the States for Australia\n",
    "covid_df[\"State\"].unique()"
   ]
  },
  {
   "cell_type": "code",
   "execution_count": 5,
   "metadata": {},
   "outputs": [],
   "source": [
    "# Convert 'Date' column to datetime format\n",
    "covid_df[\"datetime\"] = pd.to_datetime(covid_df[\"Date\"])\n",
    "\n",
    "# Use dt to get the date part only\n",
    "covid_df[\"date\"] = covid_df[\"datetime\"].dt.date"
   ]
  },
  {
   "cell_type": "code",
   "execution_count": 6,
   "metadata": {},
   "outputs": [
    {
     "data": {
      "text/html": [
       "<div>\n",
       "<style scoped>\n",
       "    .dataframe tbody tr th:only-of-type {\n",
       "        vertical-align: middle;\n",
       "    }\n",
       "\n",
       "    .dataframe tbody tr th {\n",
       "        vertical-align: top;\n",
       "    }\n",
       "\n",
       "    .dataframe thead th {\n",
       "        text-align: right;\n",
       "    }\n",
       "</style>\n",
       "<table border=\"1\" class=\"dataframe\">\n",
       "  <thead>\n",
       "    <tr style=\"text-align: right;\">\n",
       "      <th></th>\n",
       "      <th>State</th>\n",
       "      <th>Confirmed (cumulative)</th>\n",
       "      <th>Active</th>\n",
       "      <th>Deaths</th>\n",
       "      <th>date</th>\n",
       "    </tr>\n",
       "  </thead>\n",
       "  <tbody>\n",
       "    <tr>\n",
       "      <th>0</th>\n",
       "      <td>Western Australia</td>\n",
       "      <td>2</td>\n",
       "      <td>1</td>\n",
       "      <td>1</td>\n",
       "      <td>2020-03-01</td>\n",
       "    </tr>\n",
       "    <tr>\n",
       "      <th>1</th>\n",
       "      <td>Australian Capital Territory</td>\n",
       "      <td>0</td>\n",
       "      <td>0</td>\n",
       "      <td>0</td>\n",
       "      <td>2020-03-01</td>\n",
       "    </tr>\n",
       "    <tr>\n",
       "      <th>2</th>\n",
       "      <td>New South Wales</td>\n",
       "      <td>6</td>\n",
       "      <td>2</td>\n",
       "      <td>0</td>\n",
       "      <td>2020-03-01</td>\n",
       "    </tr>\n",
       "    <tr>\n",
       "      <th>3</th>\n",
       "      <td>Northern Territory</td>\n",
       "      <td>0</td>\n",
       "      <td>0</td>\n",
       "      <td>0</td>\n",
       "      <td>2020-03-01</td>\n",
       "    </tr>\n",
       "    <tr>\n",
       "      <th>4</th>\n",
       "      <td>Queensland</td>\n",
       "      <td>9</td>\n",
       "      <td>8</td>\n",
       "      <td>0</td>\n",
       "      <td>2020-03-01</td>\n",
       "    </tr>\n",
       "  </tbody>\n",
       "</table>\n",
       "</div>"
      ],
      "text/plain": [
       "                          State  Confirmed (cumulative)  Active  Deaths  \\\n",
       "0             Western Australia                       2       1       1   \n",
       "1  Australian Capital Territory                       0       0       0   \n",
       "2               New South Wales                       6       2       0   \n",
       "3            Northern Territory                       0       0       0   \n",
       "4                    Queensland                       9       8       0   \n",
       "\n",
       "         date  \n",
       "0  2020-03-01  \n",
       "1  2020-03-01  \n",
       "2  2020-03-01  \n",
       "3  2020-03-01  \n",
       "4  2020-03-01  "
      ]
     },
     "execution_count": 6,
     "metadata": {},
     "output_type": "execute_result"
    }
   ],
   "source": [
    "# Drop date columns\n",
    "covid_df.drop(columns=[\"Date\", \"datetime\"],inplace=True)\n",
    "covid_df.head()"
   ]
  },
  {
   "cell_type": "markdown",
   "metadata": {},
   "source": [
    "### Victoria"
   ]
  },
  {
   "cell_type": "code",
   "execution_count": 9,
   "metadata": {},
   "outputs": [],
   "source": [
    "# Loop through dates and get the active cases for each week\n",
    "# Set up list to hold active cases                                   \n",
    "vic_active_cases = []\n",
    "week_ending = []\n",
    "\n",
    "# Set end dates for while loop\n",
    "end_date = datetime(2020,9,8).date()\n",
    "week_start_date = datetime(2020,3,1).date()\n",
    "week_end_date = datetime(2020,3,7).date()\n",
    "\n",
    "while week_end_date < end_date:\n",
    "    \n",
    "    # Set conditions on df\n",
    "    week_rows_vic = covid_df[(covid_df[\"date\"] >= week_start_date) &\n",
    "                             (covid_df[\"date\"] <= week_end_date) & \n",
    "                             (covid_df[\"State\"] == \"Victoria\")] \n",
    "    \n",
    "    # Get the active cases and append to list\n",
    "    vic_active_cases.append(week_rows_vic[\"Active\"].mean())\n",
    "    week_ending.append(week_end_date)\n",
    "        \n",
    "    # Add 7 days to start and end date range\n",
    "    week_start_date = week_start_date + timedelta(days=7)\n",
    "    week_end_date = week_end_date + timedelta(days=7)   \n",
    "\n",
    "# Create df\n",
    "vic_df = pd.DataFrame({\"Vic Active\": vic_active_cases, \n",
    "                       \"Week ending\": week_ending})"
   ]
  },
  {
   "cell_type": "code",
   "execution_count": 10,
   "metadata": {},
   "outputs": [
    {
     "data": {
      "text/html": [
       "<div>\n",
       "<style scoped>\n",
       "    .dataframe tbody tr th:only-of-type {\n",
       "        vertical-align: middle;\n",
       "    }\n",
       "\n",
       "    .dataframe tbody tr th {\n",
       "        vertical-align: top;\n",
       "    }\n",
       "\n",
       "    .dataframe thead th {\n",
       "        text-align: right;\n",
       "    }\n",
       "</style>\n",
       "<table border=\"1\" class=\"dataframe\">\n",
       "  <thead>\n",
       "    <tr style=\"text-align: right;\">\n",
       "      <th></th>\n",
       "      <th>Vic Active</th>\n",
       "      <th>Week ending</th>\n",
       "      <th>diff</th>\n",
       "      <th>percentage</th>\n",
       "    </tr>\n",
       "  </thead>\n",
       "  <tbody>\n",
       "    <tr>\n",
       "      <th>1</th>\n",
       "      <td>17.142857</td>\n",
       "      <td>2020-03-14</td>\n",
       "      <td>13.000000</td>\n",
       "      <td>75.833333</td>\n",
       "    </tr>\n",
       "    <tr>\n",
       "      <th>2</th>\n",
       "      <td>108.285714</td>\n",
       "      <td>2020-03-21</td>\n",
       "      <td>91.142857</td>\n",
       "      <td>84.168865</td>\n",
       "    </tr>\n",
       "    <tr>\n",
       "      <th>3</th>\n",
       "      <td>358.857143</td>\n",
       "      <td>2020-03-28</td>\n",
       "      <td>250.571429</td>\n",
       "      <td>69.824841</td>\n",
       "    </tr>\n",
       "    <tr>\n",
       "      <th>4</th>\n",
       "      <td>604.857143</td>\n",
       "      <td>2020-04-04</td>\n",
       "      <td>246.000000</td>\n",
       "      <td>40.670761</td>\n",
       "    </tr>\n",
       "    <tr>\n",
       "      <th>5</th>\n",
       "      <td>475.571429</td>\n",
       "      <td>2020-04-11</td>\n",
       "      <td>-129.285714</td>\n",
       "      <td>-27.185341</td>\n",
       "    </tr>\n",
       "  </tbody>\n",
       "</table>\n",
       "</div>"
      ],
      "text/plain": [
       "   Vic Active Week ending        diff  percentage\n",
       "1   17.142857  2020-03-14   13.000000   75.833333\n",
       "2  108.285714  2020-03-21   91.142857   84.168865\n",
       "3  358.857143  2020-03-28  250.571429   69.824841\n",
       "4  604.857143  2020-04-04  246.000000   40.670761\n",
       "5  475.571429  2020-04-11 -129.285714  -27.185341"
      ]
     },
     "execution_count": 10,
     "metadata": {},
     "output_type": "execute_result"
    }
   ],
   "source": [
    "# Calculate percentage change in active cases and add as new column to df\n",
    "vic_df[\"diff\"] = vic_df[\"Vic Active\"].diff()\n",
    "vic_df[\"percentage\"] = (vic_df[\"diff\"]/vic_df[\"Vic Active\"])*100\n",
    "vic_df = vic_df.dropna()\n",
    "vic_df.head()"
   ]
  },
  {
   "cell_type": "code",
   "execution_count": 11,
   "metadata": {},
   "outputs": [
    {
     "data": {
      "text/plain": [
       "<matplotlib.collections.PathCollection at 0x2df58648ac0>"
      ]
     },
     "execution_count": 11,
     "metadata": {},
     "output_type": "execute_result"
    },
    {
     "data": {
      "image/png": "[encoded data removed]",
      "text/plain": [
       "<Figure size 432x288 with 1 Axes>"
      ]
     },
     "metadata": {
      "needs_background": "light"
     },
     "output_type": "display_data"
    }
   ],
   "source": [
    "# Create a scatterplot of percentage change in active cases\n",
    "x_values = vic_df[\"Week ending\"]\n",
    "y_values = vic_df[\"percentage\"]\n",
    "plt.scatter(x_values, y_values)\n",
    "\n",
    "# (slope, intercept, rvalue, pvalue, stderr) = linregress(x_values, y_values)\n",
    "\n",
    "# regress_values = x_values * slope + intercept\n",
    "# line_eq = \"y = \" + str(round(slope,2)) + \"x + \" + str(round(intercept,2))\n",
    "# plot.scatter(x_values,regress_values, \"r-\")\n",
    "# plt.annotate(line_eq,(0,50),fontsize=15,color=\"red\")\n",
    "# plt.xlabel('Week ending')\n",
    "# plt.ylabel(\"Mean of active cases\")\n",
    "# print(f\"The r-squared is: {rvalue**2}\")"
   ]
  },
  {
   "cell_type": "markdown",
   "metadata": {},
   "source": [
    "### Western Australia"
   ]
  },
  {
   "cell_type": "code",
   "execution_count": 15,
   "metadata": {},
   "outputs": [],
   "source": [
    "# Loop through dates and get the active cases for each week\n",
    "# Set up list to hold active cases                                   \n",
    "wa_active_cases = []\n",
    "week_ending = []\n",
    "\n",
    "# Set end dates for while loop\n",
    "end_date = datetime(2020,9,8).date()\n",
    "week_start_date = datetime(2020,3,1).date()\n",
    "week_end_date = datetime(2020,3,7).date()\n",
    "\n",
    "while week_end_date < end_date:\n",
    "    \n",
    "    # Set conditions on df\n",
    "    week_rows_wa = covid_df[(covid_df[\"date\"] >= week_start_date) &\n",
    "                             (covid_df[\"date\"] <= week_end_date) & \n",
    "                             (covid_df[\"State\"] == \"Western Australia\")] \n",
    "    \n",
    "    # Get the active cases and append to list\n",
    "    wa_active_cases.append(week_rows_wa[\"Active\"].mean())\n",
    "    week_ending.append(week_end_date)\n",
    "        \n",
    "    # Add 7 days to start and end date range\n",
    "    week_start_date = week_start_date + timedelta(days=7)\n",
    "    week_end_date = week_end_date + timedelta(days=7) \n",
    "\n",
    "# Create df\n",
    "wa_df = pd.DataFrame({\"WA Active\": wa_active_cases, \n",
    "                       \"Week ending\": week_ending})"
   ]
  },
  {
   "cell_type": "code",
   "execution_count": 17,
   "metadata": {},
   "outputs": [
    {
     "data": {
      "text/html": [
       "<div>\n",
       "<style scoped>\n",
       "    .dataframe tbody tr th:only-of-type {\n",
       "        vertical-align: middle;\n",
       "    }\n",
       "\n",
       "    .dataframe tbody tr th {\n",
       "        vertical-align: top;\n",
       "    }\n",
       "\n",
       "    .dataframe thead th {\n",
       "        text-align: right;\n",
       "    }\n",
       "</style>\n",
       "<table border=\"1\" class=\"dataframe\">\n",
       "  <thead>\n",
       "    <tr style=\"text-align: right;\">\n",
       "      <th></th>\n",
       "      <th>WA Active</th>\n",
       "      <th>Week ending</th>\n",
       "      <th>diff</th>\n",
       "      <th>percentage</th>\n",
       "    </tr>\n",
       "  </thead>\n",
       "  <tbody>\n",
       "    <tr>\n",
       "      <th>1</th>\n",
       "      <td>7.857143</td>\n",
       "      <td>2020-03-14</td>\n",
       "      <td>6.428571</td>\n",
       "      <td>81.818182</td>\n",
       "    </tr>\n",
       "    <tr>\n",
       "      <th>2</th>\n",
       "      <td>44.285714</td>\n",
       "      <td>2020-03-21</td>\n",
       "      <td>36.428571</td>\n",
       "      <td>82.258065</td>\n",
       "    </tr>\n",
       "    <tr>\n",
       "      <th>3</th>\n",
       "      <td>187.000000</td>\n",
       "      <td>2020-03-28</td>\n",
       "      <td>142.714286</td>\n",
       "      <td>76.317800</td>\n",
       "    </tr>\n",
       "    <tr>\n",
       "      <th>4</th>\n",
       "      <td>319.714286</td>\n",
       "      <td>2020-04-04</td>\n",
       "      <td>132.714286</td>\n",
       "      <td>41.510277</td>\n",
       "    </tr>\n",
       "    <tr>\n",
       "      <th>5</th>\n",
       "      <td>309.571429</td>\n",
       "      <td>2020-04-11</td>\n",
       "      <td>-10.142857</td>\n",
       "      <td>-3.276419</td>\n",
       "    </tr>\n",
       "  </tbody>\n",
       "</table>\n",
       "</div>"
      ],
      "text/plain": [
       "    WA Active Week ending        diff  percentage\n",
       "1    7.857143  2020-03-14    6.428571   81.818182\n",
       "2   44.285714  2020-03-21   36.428571   82.258065\n",
       "3  187.000000  2020-03-28  142.714286   76.317800\n",
       "4  319.714286  2020-04-04  132.714286   41.510277\n",
       "5  309.571429  2020-04-11  -10.142857   -3.276419"
      ]
     },
     "execution_count": 17,
     "metadata": {},
     "output_type": "execute_result"
    }
   ],
   "source": [
    "# Calculate percentage change in active cases and add as new column to df\n",
    "wa_df[\"diff\"] = wa_df[\"WA Active\"].diff()\n",
    "wa_df[\"percentage\"] = (wa_df[\"diff\"]/wa_df[\"WA Active\"])*100\n",
    "wa_df = wa_df.dropna()\n",
    "wa_df.head()"
   ]
  },
  {
   "cell_type": "code",
   "execution_count": 18,
   "metadata": {},
   "outputs": [
    {
     "data": {
      "text/plain": [
       "<matplotlib.collections.PathCollection at 0x2df5872dca0>"
      ]
     },
     "execution_count": 18,
     "metadata": {},
     "output_type": "execute_result"
    },
    {
     "data": {
      "image/png": "[encoded data removed]",
      "text/plain": [
       "<Figure size 432x288 with 1 Axes>"
      ]
     },
     "metadata": {
      "needs_background": "light"
     },
     "output_type": "display_data"
    }
   ],
   "source": [
    "# Create a scatterplot of percentage change in active cases\n",
    "x_values = wa_df[\"Week ending\"]\n",
    "y_values = wa_df[\"percentage\"]\n",
    "plt.scatter(x_values, y_values)\n",
    "# (slope, intercept, rvalue, pvalue, stderr) = linregress(x_values, y_values)\n",
    "\n",
    "# regress_values = x_values * slope + intercept\n",
    "# line_eq = \"y = \" + str(round(slope,2)) + \"x + \" + str(round(intercept,2))\n",
    "# plot.scatter(x_values,regress_values, \"r-\")\n",
    "# plt.annotate(line_eq,(0,50),fontsize=15,color=\"red\")\n",
    "# plt.xlabel('Week ending')\n",
    "# plt.ylabel(\"Mean of active cases\")\n",
    "# print(f\"The r-squared is: {rvalue**2}\")"
   ]
  },
  {
   "cell_type": "markdown",
   "metadata": {},
   "source": [
    "### Queensland"
   ]
  },
  {
   "cell_type": "code",
   "execution_count": 22,
   "metadata": {},
   "outputs": [],
   "source": [
    "# Loop through dates and get the active cases for each week\n",
    "# Set up list to hold active cases                                   \n",
    "qld_active_cases = []\n",
    "week_ending = []\n",
    "\n",
    "# Set end dates for while loop\n",
    "end_date = datetime(2020,9,8).date()\n",
    "week_start_date = datetime(2020,3,1).date()\n",
    "week_end_date = datetime(2020,3,7).date()\n",
    "\n",
    "while week_end_date < end_date:\n",
    "    \n",
    "    # Set conditions on df\n",
    "    week_rows_qld = covid_df[(covid_df[\"date\"] >= week_start_date) &\n",
    "                             (covid_df[\"date\"] <= week_end_date) & \n",
    "                             (covid_df[\"State\"] == \"Queensland\")] \n",
    "    \n",
    "    # Get the active cases and append to list\n",
    "    qld_active_cases.append(week_rows_qld[\"Active\"].mean())\n",
    "    week_ending.append(week_end_date)\n",
    "        \n",
    "    # Add 7 days to start and end date range\n",
    "    week_start_date = week_start_date + timedelta(days=7)\n",
    "    week_end_date = week_end_date + timedelta(days=7)  \n",
    "    \n",
    "# Create df\n",
    "qld_df = pd.DataFrame({\"Qld Active\": qld_active_cases, \n",
    "                       \"Week ending\": week_ending})"
   ]
  },
  {
   "cell_type": "code",
   "execution_count": 24,
   "metadata": {},
   "outputs": [
    {
     "data": {
      "text/html": [
       "<div>\n",
       "<style scoped>\n",
       "    .dataframe tbody tr th:only-of-type {\n",
       "        vertical-align: middle;\n",
       "    }\n",
       "\n",
       "    .dataframe tbody tr th {\n",
       "        vertical-align: top;\n",
       "    }\n",
       "\n",
       "    .dataframe thead th {\n",
       "        text-align: right;\n",
       "    }\n",
       "</style>\n",
       "<table border=\"1\" class=\"dataframe\">\n",
       "  <thead>\n",
       "    <tr style=\"text-align: right;\">\n",
       "      <th></th>\n",
       "      <th>Qld Active</th>\n",
       "      <th>Week ending</th>\n",
       "      <th>diff</th>\n",
       "      <th>percentage</th>\n",
       "    </tr>\n",
       "  </thead>\n",
       "  <tbody>\n",
       "    <tr>\n",
       "      <th>1</th>\n",
       "      <td>16.142857</td>\n",
       "      <td>2020-03-14</td>\n",
       "      <td>8.857143</td>\n",
       "      <td>54.867257</td>\n",
       "    </tr>\n",
       "    <tr>\n",
       "      <th>2</th>\n",
       "      <td>113.428571</td>\n",
       "      <td>2020-03-21</td>\n",
       "      <td>97.285714</td>\n",
       "      <td>85.768262</td>\n",
       "    </tr>\n",
       "    <tr>\n",
       "      <th>3</th>\n",
       "      <td>433.142857</td>\n",
       "      <td>2020-03-28</td>\n",
       "      <td>319.714286</td>\n",
       "      <td>73.812665</td>\n",
       "    </tr>\n",
       "    <tr>\n",
       "      <th>4</th>\n",
       "      <td>771.571429</td>\n",
       "      <td>2020-04-04</td>\n",
       "      <td>338.428571</td>\n",
       "      <td>43.862248</td>\n",
       "    </tr>\n",
       "    <tr>\n",
       "      <th>5</th>\n",
       "      <td>707.428571</td>\n",
       "      <td>2020-04-11</td>\n",
       "      <td>-64.142857</td>\n",
       "      <td>-9.067044</td>\n",
       "    </tr>\n",
       "  </tbody>\n",
       "</table>\n",
       "</div>"
      ],
      "text/plain": [
       "   Qld Active Week ending        diff  percentage\n",
       "1   16.142857  2020-03-14    8.857143   54.867257\n",
       "2  113.428571  2020-03-21   97.285714   85.768262\n",
       "3  433.142857  2020-03-28  319.714286   73.812665\n",
       "4  771.571429  2020-04-04  338.428571   43.862248\n",
       "5  707.428571  2020-04-11  -64.142857   -9.067044"
      ]
     },
     "execution_count": 24,
     "metadata": {},
     "output_type": "execute_result"
    }
   ],
   "source": [
    "# Calculate percentage change in active cases and add as new column to df\n",
    "qld_df[\"diff\"] = qld_df[\"Qld Active\"].diff()\n",
    "qld_df[\"percentage\"] = (qld_df[\"diff\"]/qld_df[\"Qld Active\"])*100\n",
    "qld_df[\"percentage\"] = (qld_df[\"diff\"]/qld_df[\"Qld Active\"])*100\n",
    "qld_df = qld_df.dropna()\n",
    "qld_df.head()"
   ]
  },
  {
   "cell_type": "code",
   "execution_count": 25,
   "metadata": {},
   "outputs": [
    {
     "data": {
      "text/plain": [
       "<matplotlib.collections.PathCollection at 0x2df589bfcd0>"
      ]
     },
     "execution_count": 25,
     "metadata": {},
     "output_type": "execute_result"
    },
    {
     "data": {
      "image/png": "[encoded data removed]",
      "text/plain": [
       "<Figure size 432x288 with 1 Axes>"
      ]
     },
     "metadata": {
      "needs_background": "light"
     },
     "output_type": "display_data"
    }
   ],
   "source": [
    "# Create a scatterplot of percentage change in active cases\n",
    "x_values = qld_df[\"Week ending\"]\n",
    "y_values = qld_df[\"percentage\"]\n",
    "plt.scatter(x_values, y_values)\n",
    "\n",
    "# (slope, intercept, rvalue, pvalue, stderr) = linregress(x_values, y_values)\n",
    "\n",
    "# regress_values = x_values * slope + intercept\n",
    "# line_eq = \"y = \" + str(round(slope,2)) + \"x + \" + str(round(intercept,2))\n",
    "# plot.scatter(x_values,regress_values, \"r-\")\n",
    "# plt.annotate(line_eq,(0,50),fontsize=15,color=\"red\")\n",
    "# plt.xlabel('Week ending')\n",
    "# plt.ylabel(\"Mean of active cases\")\n",
    "# print(f\"The r-squared is: {rvalue**2}\")"
   ]
  },
  {
   "cell_type": "code",
   "execution_count": null,
   "metadata": {},
   "outputs": [],
   "source": []
  },
  {
   "cell_type": "code",
   "execution_count": null,
   "metadata": {},
   "outputs": [],
   "source": []
  }
 ],
 "metadata": {
  "kernelspec": {
   "display_name": "Python 3.8.3 64-bit ('PythonData': conda)",
   "language": "python",
   "name": "python38364bitpythondataconda4ba16aacbfda48de8af8c4af8aeed28a"
  },
  "language_info": {
   "codemirror_mode": {
    "name": "ipython",
    "version": 3
   },
   "file_extension": ".py",
   "mimetype": "text/x-python",
   "name": "python",
   "nbconvert_exporter": "python",
   "pygments_lexer": "ipython3",
   "version": "3.8.3"
  }
 },
 "nbformat": 4,
 "nbformat_minor": 4
}
